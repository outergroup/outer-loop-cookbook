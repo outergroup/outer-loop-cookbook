{
 "cells": [
  {
   "cell_type": "markdown",
   "id": "e80b2a58",
   "metadata": {},
   "source": [
    "## Visualize a model while it fits"
   ]
  },
  {
   "cell_type": "code",
   "execution_count": null,
   "id": "586e2f08",
   "metadata": {},
   "outputs": [],
   "source": [
    "import botorch\n",
    "import gpytorch\n",
    "import torch\n",
    "import vexpr.notebook\n",
    "import vexpr.web\n",
    "\n",
    "from src.gp import MODELS\n",
    "from src.gp.gp_utils import (\n",
    "    configs_dirs_to_X_Y,\n",
    ")\n",
    "from src.gp.mnist_metrics import trial_dir_to_loss_y\n",
    "from src.scheduling import parse_results\n",
    "from src.sweeps import CONFIGS\n",
    "from src.visuals import MeanNoiseKernelNotebookTimeline\n",
    "\n",
    "vexpr.notebook.init_notebook_mode()\n",
    "\n",
    "\n",
    "def scenario_fit(sweep_name, model_name, vectorize, torch_compile, num_models=1):\n",
    "    torch.set_default_dtype(torch.float64)\n",
    "\n",
    "    config = CONFIGS[sweep_name]\n",
    "    model_cls = MODELS[model_name]\n",
    "\n",
    "    device = torch.device(\"cuda\" if torch.cuda.is_available() else \"cpu\")\n",
    "\n",
    "    search_space = config[\"search_space\"]\n",
    "    search_xform = config[\"search_xform\"].to(device)\n",
    "\n",
    "    configs, trial_dirs, _ = parse_results(sweep_name)\n",
    "\n",
    "    X, Y = configs_dirs_to_X_Y(configs, trial_dirs, trial_dir_to_loss_y,\n",
    "                               config[\"parameter_space\"],\n",
    "                               search_xform,\n",
    "                               device=device)\n",
    "\n",
    "    if num_models > 1:\n",
    "        X = X.expand(num_models, *X.shape)\n",
    "        Y = Y.expand(num_models, *Y.shape)\n",
    "\n",
    "    model = model_cls(X, Y, search_space=search_space,\n",
    "                        search_xform=search_xform,\n",
    "                        round_inputs=False,\n",
    "                        vectorize=vectorize,\n",
    "                        torch_compile=torch_compile,\n",
    "                        visualize=False).to(device)\n",
    "    mll = gpytorch.mlls.ExactMarginalLogLikelihood(model.likelihood, model)\n",
    "\n",
    "    s = f\"{sweep_name} {model_name} vectorize={vectorize} torch.compile={torch_compile}\"\n",
    "    if num_models > 1:\n",
    "        s += f\" num_models={num_models}\"\n",
    "\n",
    "    mll.train()\n",
    "\n",
    "    visual = MeanNoiseKernelNotebookTimeline(model)\n",
    "\n",
    "    def callback(parameters, result):\n",
    "        \"\"\"\n",
    "        Note: botorch will wrap this callback in slow code\n",
    "        \"\"\"\n",
    "        visual.on_update(model)\n",
    "\n",
    "    botorch.fit_gpytorch_mll(mll, optimizer_kwargs=dict(callback=callback))\n",
    "    visual.on_update(model)\n",
    "    return model"
   ]
  },
  {
   "cell_type": "code",
   "execution_count": null,
   "id": "055f3d05",
   "metadata": {},
   "outputs": [],
   "source": [
    "model = scenario_fit(\"mnist1\", \"VexprFullyJointVisualizedGP\",\n",
    "             vectorize=True, torch_compile=False, num_models=1)"
   ]
  },
  {
   "cell_type": "code",
   "execution_count": null,
   "metadata": {},
   "outputs": [],
   "source": [
    "from src.visuals import MeanNoiseKernelNotebookSnapshot\n",
    "MeanNoiseKernelNotebookSnapshot(model)"
   ]
  },
  {
   "cell_type": "code",
   "execution_count": null,
   "id": "8d940a68",
   "metadata": {},
   "outputs": [],
   "source": [
    "scenario_fit(\"mnist1\", \"VexprHandsOnVisualizedGP\",\n",
    "             vectorize=True, torch_compile=False,\n",
    "             num_models=1)"
   ]
  }
 ],
 "metadata": {
  "kernelspec": {
   "display_name": "Python 3 (ipykernel)",
   "language": "python",
   "name": "python3"
  },
  "language_info": {
   "codemirror_mode": {
    "name": "ipython",
    "version": 3
   },
   "file_extension": ".py",
   "mimetype": "text/x-python",
   "name": "python",
   "nbconvert_exporter": "python",
   "pygments_lexer": "ipython3",
   "version": "3.9.13"
  }
 },
 "nbformat": 4,
 "nbformat_minor": 5
}
